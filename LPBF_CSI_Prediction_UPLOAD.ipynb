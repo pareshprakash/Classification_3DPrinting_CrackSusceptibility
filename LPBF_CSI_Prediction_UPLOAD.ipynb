{
  "nbformat": 4,
  "nbformat_minor": 0,
  "metadata": {
    "colab": {
      "provenance": []
    },
    "kernelspec": {
      "name": "python3",
      "display_name": "Python 3"
    },
    "language_info": {
      "name": "python"
    }
  },
  "cells": [
    {
      "cell_type": "markdown",
      "source": [
        "# Cracking during laser powder bed fusion 3D printing of different Aluminum alloys\n",
        "\n",
        "\n",
        "* Laser powder bed fusion 3D printing, in layman's terms, is welding using powder feedstock instead of conventional wire feedstock and using a laser as the energy source to melt the wire. Due to the laser's energy input, the powder melts on a metallic substrate's surface and fuses with it. Due to solidification from the melt state, there is solidification shrinkage, which, together with other physical phenomena, can cause crack formation in the weld, which is undesirable.\n",
        "\n",
        "\n",
        "* It is known that various process parameters, such as, welding speed, weld thickness, weld material and underlying material chemistry, etc., affect the solidification behaviour and hence the cracking behaviour. In order to prevent cracking, it is important to control these parameters during welding to be within specific ranges, but since there are so many different parameters affecting the welding, it is difficult to identify the optimal processing domain manually.\n",
        "\n",
        "\n",
        "* Owing to multiple control parameters, machine learning can prove useful to identify these dependencies, e.g., which are the more influential control parameters, as well as what range the parameter should be in to get crack-free welding. An additional use can be to predict whether a given set of process conditions will result in crack formation or not, so that the process conditions can be altered suitably for crack-free welding.\n",
        "\n",
        "\n",
        "* The project is part of a research study at the University of Waterloo examining how the residual elements in recycled aluminium material affect its 3D printability. As a starting point for machine learning model development, data presented by a research group at the Pennsylvania State University on multiple aluminium alloys is used. It is noted that the same research group also developed a machine-learning learning model for their data and published their findings in Acta Materialia Volume 226, March 2022, 117612 (https://doi.org/10.1016/j.actamat.2021.117612). The original dataset can also be found on the same weblink. The authors of this original study used an open machine learning framework called WEKA machine learning. As we show in the following, we achieved higher accuracy results using Python and the Scikit-learn library."
      ],
      "metadata": {
        "id": "316iQwn7up9q"
      }
    },
    {
      "cell_type": "markdown",
      "source": [
        "### Importing the standard libraries"
      ],
      "metadata": {
        "id": "jpgZDfc5jpx6"
      }
    },
    {
      "cell_type": "code",
      "source": [
        "import numpy as np\n",
        "import pandas as pd\n",
        "import matplotlib.pyplot as plt\n",
        "import seaborn as sns"
      ],
      "metadata": {
        "id": "TsjSMH16H8As"
      },
      "execution_count": null,
      "outputs": []
    },
    {
      "cell_type": "markdown",
      "source": [
        "### Importing the dataset as a pandas dataframe"
      ],
      "metadata": {
        "id": "_6Tm2_V0jurh"
      }
    },
    {
      "cell_type": "code",
      "source": [
        "df = pd.read_excel('/content/drive/MyDrive/for GitHub/Metallurgy/DebRoy_LPBF_CSI_Dataset.xlsx')"
      ],
      "metadata": {
        "id": "tkeJ2ZMeHoWB"
      },
      "execution_count": null,
      "outputs": []
    },
    {
      "cell_type": "markdown",
      "source": [
        "### Examining the dataset"
      ],
      "metadata": {
        "id": "vhDhiAADj0Ni"
      }
    },
    {
      "cell_type": "code",
      "source": [
        "df.head()"
      ],
      "metadata": {
        "colab": {
          "base_uri": "https://localhost:8080/",
          "height": 206
        },
        "id": "yrlw16kWH-gw",
        "outputId": "10c4f51b-e40c-449a-b1d0-b7f4d4865803"
      },
      "execution_count": null,
      "outputs": [
        {
          "output_type": "execute_result",
          "data": {
            "text/plain": [
              "   CoolingRate  TGrad_by_GrowthRate  Stress  VulTime_by_RelxTime  Crack\n",
              "0       438355                15.77    5.32                0.137      1\n",
              "1       671474                10.74    5.51                0.146      1\n",
              "2       912030                 8.21    5.72                0.146      1\n",
              "3       437663                15.75    5.32                0.149      1\n",
              "4       670581                10.73    5.51                0.155      1"
            ],
            "text/html": [
              "\n",
              "  <div id=\"df-c73cca91-640b-4867-8b8c-e33b7a3a092a\">\n",
              "    <div class=\"colab-df-container\">\n",
              "      <div>\n",
              "<style scoped>\n",
              "    .dataframe tbody tr th:only-of-type {\n",
              "        vertical-align: middle;\n",
              "    }\n",
              "\n",
              "    .dataframe tbody tr th {\n",
              "        vertical-align: top;\n",
              "    }\n",
              "\n",
              "    .dataframe thead th {\n",
              "        text-align: right;\n",
              "    }\n",
              "</style>\n",
              "<table border=\"1\" class=\"dataframe\">\n",
              "  <thead>\n",
              "    <tr style=\"text-align: right;\">\n",
              "      <th></th>\n",
              "      <th>CoolingRate</th>\n",
              "      <th>TGrad_by_GrowthRate</th>\n",
              "      <th>Stress</th>\n",
              "      <th>VulTime_by_RelxTime</th>\n",
              "      <th>Crack</th>\n",
              "    </tr>\n",
              "  </thead>\n",
              "  <tbody>\n",
              "    <tr>\n",
              "      <th>0</th>\n",
              "      <td>438355</td>\n",
              "      <td>15.77</td>\n",
              "      <td>5.32</td>\n",
              "      <td>0.137</td>\n",
              "      <td>1</td>\n",
              "    </tr>\n",
              "    <tr>\n",
              "      <th>1</th>\n",
              "      <td>671474</td>\n",
              "      <td>10.74</td>\n",
              "      <td>5.51</td>\n",
              "      <td>0.146</td>\n",
              "      <td>1</td>\n",
              "    </tr>\n",
              "    <tr>\n",
              "      <th>2</th>\n",
              "      <td>912030</td>\n",
              "      <td>8.21</td>\n",
              "      <td>5.72</td>\n",
              "      <td>0.146</td>\n",
              "      <td>1</td>\n",
              "    </tr>\n",
              "    <tr>\n",
              "      <th>3</th>\n",
              "      <td>437663</td>\n",
              "      <td>15.75</td>\n",
              "      <td>5.32</td>\n",
              "      <td>0.149</td>\n",
              "      <td>1</td>\n",
              "    </tr>\n",
              "    <tr>\n",
              "      <th>4</th>\n",
              "      <td>670581</td>\n",
              "      <td>10.73</td>\n",
              "      <td>5.51</td>\n",
              "      <td>0.155</td>\n",
              "      <td>1</td>\n",
              "    </tr>\n",
              "  </tbody>\n",
              "</table>\n",
              "</div>\n",
              "      <button class=\"colab-df-convert\" onclick=\"convertToInteractive('df-c73cca91-640b-4867-8b8c-e33b7a3a092a')\"\n",
              "              title=\"Convert this dataframe to an interactive table.\"\n",
              "              style=\"display:none;\">\n",
              "        \n",
              "  <svg xmlns=\"http://www.w3.org/2000/svg\" height=\"24px\"viewBox=\"0 0 24 24\"\n",
              "       width=\"24px\">\n",
              "    <path d=\"M0 0h24v24H0V0z\" fill=\"none\"/>\n",
              "    <path d=\"M18.56 5.44l.94 2.06.94-2.06 2.06-.94-2.06-.94-.94-2.06-.94 2.06-2.06.94zm-11 1L8.5 8.5l.94-2.06 2.06-.94-2.06-.94L8.5 2.5l-.94 2.06-2.06.94zm10 10l.94 2.06.94-2.06 2.06-.94-2.06-.94-.94-2.06-.94 2.06-2.06.94z\"/><path d=\"M17.41 7.96l-1.37-1.37c-.4-.4-.92-.59-1.43-.59-.52 0-1.04.2-1.43.59L10.3 9.45l-7.72 7.72c-.78.78-.78 2.05 0 2.83L4 21.41c.39.39.9.59 1.41.59.51 0 1.02-.2 1.41-.59l7.78-7.78 2.81-2.81c.8-.78.8-2.07 0-2.86zM5.41 20L4 18.59l7.72-7.72 1.47 1.35L5.41 20z\"/>\n",
              "  </svg>\n",
              "      </button>\n",
              "      \n",
              "  <style>\n",
              "    .colab-df-container {\n",
              "      display:flex;\n",
              "      flex-wrap:wrap;\n",
              "      gap: 12px;\n",
              "    }\n",
              "\n",
              "    .colab-df-convert {\n",
              "      background-color: #E8F0FE;\n",
              "      border: none;\n",
              "      border-radius: 50%;\n",
              "      cursor: pointer;\n",
              "      display: none;\n",
              "      fill: #1967D2;\n",
              "      height: 32px;\n",
              "      padding: 0 0 0 0;\n",
              "      width: 32px;\n",
              "    }\n",
              "\n",
              "    .colab-df-convert:hover {\n",
              "      background-color: #E2EBFA;\n",
              "      box-shadow: 0px 1px 2px rgba(60, 64, 67, 0.3), 0px 1px 3px 1px rgba(60, 64, 67, 0.15);\n",
              "      fill: #174EA6;\n",
              "    }\n",
              "\n",
              "    [theme=dark] .colab-df-convert {\n",
              "      background-color: #3B4455;\n",
              "      fill: #D2E3FC;\n",
              "    }\n",
              "\n",
              "    [theme=dark] .colab-df-convert:hover {\n",
              "      background-color: #434B5C;\n",
              "      box-shadow: 0px 1px 3px 1px rgba(0, 0, 0, 0.15);\n",
              "      filter: drop-shadow(0px 1px 2px rgba(0, 0, 0, 0.3));\n",
              "      fill: #FFFFFF;\n",
              "    }\n",
              "  </style>\n",
              "\n",
              "      <script>\n",
              "        const buttonEl =\n",
              "          document.querySelector('#df-c73cca91-640b-4867-8b8c-e33b7a3a092a button.colab-df-convert');\n",
              "        buttonEl.style.display =\n",
              "          google.colab.kernel.accessAllowed ? 'block' : 'none';\n",
              "\n",
              "        async function convertToInteractive(key) {\n",
              "          const element = document.querySelector('#df-c73cca91-640b-4867-8b8c-e33b7a3a092a');\n",
              "          const dataTable =\n",
              "            await google.colab.kernel.invokeFunction('convertToInteractive',\n",
              "                                                     [key], {});\n",
              "          if (!dataTable) return;\n",
              "\n",
              "          const docLinkHtml = 'Like what you see? Visit the ' +\n",
              "            '<a target=\"_blank\" href=https://colab.research.google.com/notebooks/data_table.ipynb>data table notebook</a>'\n",
              "            + ' to learn more about interactive tables.';\n",
              "          element.innerHTML = '';\n",
              "          dataTable['output_type'] = 'display_data';\n",
              "          await google.colab.output.renderOutput(dataTable, element);\n",
              "          const docLink = document.createElement('div');\n",
              "          docLink.innerHTML = docLinkHtml;\n",
              "          element.appendChild(docLink);\n",
              "        }\n",
              "      </script>\n",
              "    </div>\n",
              "  </div>\n",
              "  "
            ]
          },
          "metadata": {},
          "execution_count": 3
        }
      ]
    },
    {
      "cell_type": "markdown",
      "source": [
        "### Checking for the feature names and datatypes associated with them"
      ],
      "metadata": {
        "id": "H6SAngEZj8Vk"
      }
    },
    {
      "cell_type": "code",
      "source": [
        "df.info()"
      ],
      "metadata": {
        "colab": {
          "base_uri": "https://localhost:8080/"
        },
        "id": "ztQ8jvpbIAMK",
        "outputId": "8fe1370b-e0ee-48cb-fa61-aae270e76beb"
      },
      "execution_count": null,
      "outputs": [
        {
          "output_type": "stream",
          "name": "stdout",
          "text": [
            "<class 'pandas.core.frame.DataFrame'>\n",
            "RangeIndex: 102 entries, 0 to 101\n",
            "Data columns (total 5 columns):\n",
            " #   Column               Non-Null Count  Dtype  \n",
            "---  ------               --------------  -----  \n",
            " 0   CoolingRate          102 non-null    int64  \n",
            " 1   TGrad_by_GrowthRate  102 non-null    float64\n",
            " 2   Stress               102 non-null    float64\n",
            " 3   VulTime_by_RelxTime  102 non-null    float64\n",
            " 4   Crack                102 non-null    int64  \n",
            "dtypes: float64(3), int64(2)\n",
            "memory usage: 4.1 KB\n"
          ]
        }
      ]
    },
    {
      "cell_type": "markdown",
      "source": [
        "### Checking for any null values"
      ],
      "metadata": {
        "id": "hhInRaz8kESh"
      }
    },
    {
      "cell_type": "code",
      "source": [
        "df.isna().sum()"
      ],
      "metadata": {
        "colab": {
          "base_uri": "https://localhost:8080/"
        },
        "id": "2Q1XEYF1ICFD",
        "outputId": "c2e15414-e3e1-4472-d71d-1b690b69b5d8"
      },
      "execution_count": null,
      "outputs": [
        {
          "output_type": "execute_result",
          "data": {
            "text/plain": [
              "CoolingRate            0\n",
              "TGrad_by_GrowthRate    0\n",
              "Stress                 0\n",
              "VulTime_by_RelxTime    0\n",
              "Crack                  0\n",
              "dtype: int64"
            ]
          },
          "metadata": {},
          "execution_count": 5
        }
      ]
    },
    {
      "cell_type": "markdown",
      "source": [
        "### Descriptive statistics for the various features"
      ],
      "metadata": {
        "id": "kl-03MazkIJm"
      }
    },
    {
      "cell_type": "code",
      "source": [
        "df.describe()"
      ],
      "metadata": {
        "colab": {
          "base_uri": "https://localhost:8080/",
          "height": 300
        },
        "id": "WmpISn39OGT7",
        "outputId": "5752a27b-9141-4aa4-bcc5-d46de85b6b7e"
      },
      "execution_count": null,
      "outputs": [
        {
          "output_type": "execute_result",
          "data": {
            "text/plain": [
              "        CoolingRate  TGrad_by_GrowthRate      Stress  VulTime_by_RelxTime  \\\n",
              "count  1.020000e+02           102.000000  102.000000           102.000000   \n",
              "mean   1.411431e+06             5.619412    6.458529             1.637343   \n",
              "std    1.423058e+06             7.547464    1.226490             1.074407   \n",
              "min    4.381500e+04             0.760000    4.560000             0.133000   \n",
              "25%    3.898482e+05             1.452500    5.322500             0.650750   \n",
              "50%    6.719020e+05             1.980000    6.500000             1.932000   \n",
              "75%    2.587225e+06             5.700000    7.235000             2.620250   \n",
              "max    6.396480e+06            31.140000   10.040000             4.676000   \n",
              "\n",
              "            Crack  \n",
              "count  102.000000  \n",
              "mean     0.607843  \n",
              "std      0.490642  \n",
              "min      0.000000  \n",
              "25%      0.000000  \n",
              "50%      1.000000  \n",
              "75%      1.000000  \n",
              "max      1.000000  "
            ],
            "text/html": [
              "\n",
              "  <div id=\"df-25edf12f-34f2-404e-9fb9-2d76a7cbb607\">\n",
              "    <div class=\"colab-df-container\">\n",
              "      <div>\n",
              "<style scoped>\n",
              "    .dataframe tbody tr th:only-of-type {\n",
              "        vertical-align: middle;\n",
              "    }\n",
              "\n",
              "    .dataframe tbody tr th {\n",
              "        vertical-align: top;\n",
              "    }\n",
              "\n",
              "    .dataframe thead th {\n",
              "        text-align: right;\n",
              "    }\n",
              "</style>\n",
              "<table border=\"1\" class=\"dataframe\">\n",
              "  <thead>\n",
              "    <tr style=\"text-align: right;\">\n",
              "      <th></th>\n",
              "      <th>CoolingRate</th>\n",
              "      <th>TGrad_by_GrowthRate</th>\n",
              "      <th>Stress</th>\n",
              "      <th>VulTime_by_RelxTime</th>\n",
              "      <th>Crack</th>\n",
              "    </tr>\n",
              "  </thead>\n",
              "  <tbody>\n",
              "    <tr>\n",
              "      <th>count</th>\n",
              "      <td>1.020000e+02</td>\n",
              "      <td>102.000000</td>\n",
              "      <td>102.000000</td>\n",
              "      <td>102.000000</td>\n",
              "      <td>102.000000</td>\n",
              "    </tr>\n",
              "    <tr>\n",
              "      <th>mean</th>\n",
              "      <td>1.411431e+06</td>\n",
              "      <td>5.619412</td>\n",
              "      <td>6.458529</td>\n",
              "      <td>1.637343</td>\n",
              "      <td>0.607843</td>\n",
              "    </tr>\n",
              "    <tr>\n",
              "      <th>std</th>\n",
              "      <td>1.423058e+06</td>\n",
              "      <td>7.547464</td>\n",
              "      <td>1.226490</td>\n",
              "      <td>1.074407</td>\n",
              "      <td>0.490642</td>\n",
              "    </tr>\n",
              "    <tr>\n",
              "      <th>min</th>\n",
              "      <td>4.381500e+04</td>\n",
              "      <td>0.760000</td>\n",
              "      <td>4.560000</td>\n",
              "      <td>0.133000</td>\n",
              "      <td>0.000000</td>\n",
              "    </tr>\n",
              "    <tr>\n",
              "      <th>25%</th>\n",
              "      <td>3.898482e+05</td>\n",
              "      <td>1.452500</td>\n",
              "      <td>5.322500</td>\n",
              "      <td>0.650750</td>\n",
              "      <td>0.000000</td>\n",
              "    </tr>\n",
              "    <tr>\n",
              "      <th>50%</th>\n",
              "      <td>6.719020e+05</td>\n",
              "      <td>1.980000</td>\n",
              "      <td>6.500000</td>\n",
              "      <td>1.932000</td>\n",
              "      <td>1.000000</td>\n",
              "    </tr>\n",
              "    <tr>\n",
              "      <th>75%</th>\n",
              "      <td>2.587225e+06</td>\n",
              "      <td>5.700000</td>\n",
              "      <td>7.235000</td>\n",
              "      <td>2.620250</td>\n",
              "      <td>1.000000</td>\n",
              "    </tr>\n",
              "    <tr>\n",
              "      <th>max</th>\n",
              "      <td>6.396480e+06</td>\n",
              "      <td>31.140000</td>\n",
              "      <td>10.040000</td>\n",
              "      <td>4.676000</td>\n",
              "      <td>1.000000</td>\n",
              "    </tr>\n",
              "  </tbody>\n",
              "</table>\n",
              "</div>\n",
              "      <button class=\"colab-df-convert\" onclick=\"convertToInteractive('df-25edf12f-34f2-404e-9fb9-2d76a7cbb607')\"\n",
              "              title=\"Convert this dataframe to an interactive table.\"\n",
              "              style=\"display:none;\">\n",
              "        \n",
              "  <svg xmlns=\"http://www.w3.org/2000/svg\" height=\"24px\"viewBox=\"0 0 24 24\"\n",
              "       width=\"24px\">\n",
              "    <path d=\"M0 0h24v24H0V0z\" fill=\"none\"/>\n",
              "    <path d=\"M18.56 5.44l.94 2.06.94-2.06 2.06-.94-2.06-.94-.94-2.06-.94 2.06-2.06.94zm-11 1L8.5 8.5l.94-2.06 2.06-.94-2.06-.94L8.5 2.5l-.94 2.06-2.06.94zm10 10l.94 2.06.94-2.06 2.06-.94-2.06-.94-.94-2.06-.94 2.06-2.06.94z\"/><path d=\"M17.41 7.96l-1.37-1.37c-.4-.4-.92-.59-1.43-.59-.52 0-1.04.2-1.43.59L10.3 9.45l-7.72 7.72c-.78.78-.78 2.05 0 2.83L4 21.41c.39.39.9.59 1.41.59.51 0 1.02-.2 1.41-.59l7.78-7.78 2.81-2.81c.8-.78.8-2.07 0-2.86zM5.41 20L4 18.59l7.72-7.72 1.47 1.35L5.41 20z\"/>\n",
              "  </svg>\n",
              "      </button>\n",
              "      \n",
              "  <style>\n",
              "    .colab-df-container {\n",
              "      display:flex;\n",
              "      flex-wrap:wrap;\n",
              "      gap: 12px;\n",
              "    }\n",
              "\n",
              "    .colab-df-convert {\n",
              "      background-color: #E8F0FE;\n",
              "      border: none;\n",
              "      border-radius: 50%;\n",
              "      cursor: pointer;\n",
              "      display: none;\n",
              "      fill: #1967D2;\n",
              "      height: 32px;\n",
              "      padding: 0 0 0 0;\n",
              "      width: 32px;\n",
              "    }\n",
              "\n",
              "    .colab-df-convert:hover {\n",
              "      background-color: #E2EBFA;\n",
              "      box-shadow: 0px 1px 2px rgba(60, 64, 67, 0.3), 0px 1px 3px 1px rgba(60, 64, 67, 0.15);\n",
              "      fill: #174EA6;\n",
              "    }\n",
              "\n",
              "    [theme=dark] .colab-df-convert {\n",
              "      background-color: #3B4455;\n",
              "      fill: #D2E3FC;\n",
              "    }\n",
              "\n",
              "    [theme=dark] .colab-df-convert:hover {\n",
              "      background-color: #434B5C;\n",
              "      box-shadow: 0px 1px 3px 1px rgba(0, 0, 0, 0.15);\n",
              "      filter: drop-shadow(0px 1px 2px rgba(0, 0, 0, 0.3));\n",
              "      fill: #FFFFFF;\n",
              "    }\n",
              "  </style>\n",
              "\n",
              "      <script>\n",
              "        const buttonEl =\n",
              "          document.querySelector('#df-25edf12f-34f2-404e-9fb9-2d76a7cbb607 button.colab-df-convert');\n",
              "        buttonEl.style.display =\n",
              "          google.colab.kernel.accessAllowed ? 'block' : 'none';\n",
              "\n",
              "        async function convertToInteractive(key) {\n",
              "          const element = document.querySelector('#df-25edf12f-34f2-404e-9fb9-2d76a7cbb607');\n",
              "          const dataTable =\n",
              "            await google.colab.kernel.invokeFunction('convertToInteractive',\n",
              "                                                     [key], {});\n",
              "          if (!dataTable) return;\n",
              "\n",
              "          const docLinkHtml = 'Like what you see? Visit the ' +\n",
              "            '<a target=\"_blank\" href=https://colab.research.google.com/notebooks/data_table.ipynb>data table notebook</a>'\n",
              "            + ' to learn more about interactive tables.';\n",
              "          element.innerHTML = '';\n",
              "          dataTable['output_type'] = 'display_data';\n",
              "          await google.colab.output.renderOutput(dataTable, element);\n",
              "          const docLink = document.createElement('div');\n",
              "          docLink.innerHTML = docLinkHtml;\n",
              "          element.appendChild(docLink);\n",
              "        }\n",
              "      </script>\n",
              "    </div>\n",
              "  </div>\n",
              "  "
            ]
          },
          "metadata": {},
          "execution_count": 17
        }
      ]
    },
    {
      "cell_type": "markdown",
      "source": [
        "### Some exploratory data analysis"
      ],
      "metadata": {
        "id": "nwF0DFwykQp6"
      }
    },
    {
      "cell_type": "code",
      "source": [
        "df.hist(bins = 30, figsize = (10,10))"
      ],
      "metadata": {
        "colab": {
          "base_uri": "https://localhost:8080/",
          "height": 711
        },
        "id": "AkLwZCx3Nqcm",
        "outputId": "e75a654c-4e22-4ddb-94e5-2f55fc64021f"
      },
      "execution_count": null,
      "outputs": [
        {
          "output_type": "execute_result",
          "data": {
            "text/plain": [
              "array([[<AxesSubplot:title={'center':'CoolingRate'}>,\n",
              "        <AxesSubplot:title={'center':'TGrad_by_GrowthRate'}>],\n",
              "       [<AxesSubplot:title={'center':'Stress'}>,\n",
              "        <AxesSubplot:title={'center':'VulTime_by_RelxTime'}>],\n",
              "       [<AxesSubplot:title={'center':'Crack'}>, <AxesSubplot:>]],\n",
              "      dtype=object)"
            ]
          },
          "metadata": {},
          "execution_count": 16
        },
        {
          "output_type": "display_data",
          "data": {
            "text/plain": [
              "<Figure size 720x720 with 6 Axes>"
            ],
            "image/png": "[encoded data removed]"
          },
          "metadata": {
            "needs_background": "light"
          }
        }
      ]
    },
    {
      "cell_type": "markdown",
      "source": [
        "# Checking the distribution of cracked and non-cracked samples in the dataset"
      ],
      "metadata": {
        "id": "soFUwk4Ekaql"
      }
    },
    {
      "cell_type": "code",
      "source": [
        "df['Crack'].value_counts()"
      ],
      "metadata": {
        "colab": {
          "base_uri": "https://localhost:8080/"
        },
        "id": "F4b2sOMcNZ8w",
        "outputId": "9e45c4a0-effc-4060-bc23-4d340afcf549"
      },
      "execution_count": null,
      "outputs": [
        {
          "output_type": "execute_result",
          "data": {
            "text/plain": [
              "1    62\n",
              "0    40\n",
              "Name: Crack, dtype: int64"
            ]
          },
          "metadata": {},
          "execution_count": 15
        }
      ]
    },
    {
      "cell_type": "markdown",
      "source": [
        "### Checking for any linear correlation between the features"
      ],
      "metadata": {
        "id": "b6b1XByMknvs"
      }
    },
    {
      "cell_type": "code",
      "source": [
        "df.corr()"
      ],
      "metadata": {
        "colab": {
          "base_uri": "https://localhost:8080/",
          "height": 206
        },
        "id": "C4xf361eLRPd",
        "outputId": "d5736835-ec61-4103-c5a3-32938efce5a6"
      },
      "execution_count": null,
      "outputs": [
        {
          "output_type": "execute_result",
          "data": {
            "text/plain": [
              "                     CoolingRate  TGrad_by_GrowthRate    Stress  \\\n",
              "CoolingRate             1.000000            -0.385195  0.323340   \n",
              "TGrad_by_GrowthRate    -0.385195             1.000000 -0.371936   \n",
              "Stress                  0.323340            -0.371936  1.000000   \n",
              "VulTime_by_RelxTime    -0.293658            -0.464264  0.115171   \n",
              "Crack                  -0.054268            -0.077974  0.398351   \n",
              "\n",
              "                     VulTime_by_RelxTime     Crack  \n",
              "CoolingRate                    -0.293658 -0.054268  \n",
              "TGrad_by_GrowthRate            -0.464264 -0.077974  \n",
              "Stress                          0.115171  0.398351  \n",
              "VulTime_by_RelxTime             1.000000  0.256615  \n",
              "Crack                           0.256615  1.000000  "
            ],
            "text/html": [
              "\n",
              "  <div id=\"df-4643b1b6-f35b-48ad-bffd-b06d0a2c32db\">\n",
              "    <div class=\"colab-df-container\">\n",
              "      <div>\n",
              "<style scoped>\n",
              "    .dataframe tbody tr th:only-of-type {\n",
              "        vertical-align: middle;\n",
              "    }\n",
              "\n",
              "    .dataframe tbody tr th {\n",
              "        vertical-align: top;\n",
              "    }\n",
              "\n",
              "    .dataframe thead th {\n",
              "        text-align: right;\n",
              "    }\n",
              "</style>\n",
              "<table border=\"1\" class=\"dataframe\">\n",
              "  <thead>\n",
              "    <tr style=\"text-align: right;\">\n",
              "      <th></th>\n",
              "      <th>CoolingRate</th>\n",
              "      <th>TGrad_by_GrowthRate</th>\n",
              "      <th>Stress</th>\n",
              "      <th>VulTime_by_RelxTime</th>\n",
              "      <th>Crack</th>\n",
              "    </tr>\n",
              "  </thead>\n",
              "  <tbody>\n",
              "    <tr>\n",
              "      <th>CoolingRate</th>\n",
              "      <td>1.000000</td>\n",
              "      <td>-0.385195</td>\n",
              "      <td>0.323340</td>\n",
              "      <td>-0.293658</td>\n",
              "      <td>-0.054268</td>\n",
              "    </tr>\n",
              "    <tr>\n",
              "      <th>TGrad_by_GrowthRate</th>\n",
              "      <td>-0.385195</td>\n",
              "      <td>1.000000</td>\n",
              "      <td>-0.371936</td>\n",
              "      <td>-0.464264</td>\n",
              "      <td>-0.077974</td>\n",
              "    </tr>\n",
              "    <tr>\n",
              "      <th>Stress</th>\n",
              "      <td>0.323340</td>\n",
              "      <td>-0.371936</td>\n",
              "      <td>1.000000</td>\n",
              "      <td>0.115171</td>\n",
              "      <td>0.398351</td>\n",
              "    </tr>\n",
              "    <tr>\n",
              "      <th>VulTime_by_RelxTime</th>\n",
              "      <td>-0.293658</td>\n",
              "      <td>-0.464264</td>\n",
              "      <td>0.115171</td>\n",
              "      <td>1.000000</td>\n",
              "      <td>0.256615</td>\n",
              "    </tr>\n",
              "    <tr>\n",
              "      <th>Crack</th>\n",
              "      <td>-0.054268</td>\n",
              "      <td>-0.077974</td>\n",
              "      <td>0.398351</td>\n",
              "      <td>0.256615</td>\n",
              "      <td>1.000000</td>\n",
              "    </tr>\n",
              "  </tbody>\n",
              "</table>\n",
              "</div>\n",
              "      <button class=\"colab-df-convert\" onclick=\"convertToInteractive('df-4643b1b6-f35b-48ad-bffd-b06d0a2c32db')\"\n",
              "              title=\"Convert this dataframe to an interactive table.\"\n",
              "              style=\"display:none;\">\n",
              "        \n",
              "  <svg xmlns=\"http://www.w3.org/2000/svg\" height=\"24px\"viewBox=\"0 0 24 24\"\n",
              "       width=\"24px\">\n",
              "    <path d=\"M0 0h24v24H0V0z\" fill=\"none\"/>\n",
              "    <path d=\"M18.56 5.44l.94 2.06.94-2.06 2.06-.94-2.06-.94-.94-2.06-.94 2.06-2.06.94zm-11 1L8.5 8.5l.94-2.06 2.06-.94-2.06-.94L8.5 2.5l-.94 2.06-2.06.94zm10 10l.94 2.06.94-2.06 2.06-.94-2.06-.94-.94-2.06-.94 2.06-2.06.94z\"/><path d=\"M17.41 7.96l-1.37-1.37c-.4-.4-.92-.59-1.43-.59-.52 0-1.04.2-1.43.59L10.3 9.45l-7.72 7.72c-.78.78-.78 2.05 0 2.83L4 21.41c.39.39.9.59 1.41.59.51 0 1.02-.2 1.41-.59l7.78-7.78 2.81-2.81c.8-.78.8-2.07 0-2.86zM5.41 20L4 18.59l7.72-7.72 1.47 1.35L5.41 20z\"/>\n",
              "  </svg>\n",
              "      </button>\n",
              "      \n",
              "  <style>\n",
              "    .colab-df-container {\n",
              "      display:flex;\n",
              "      flex-wrap:wrap;\n",
              "      gap: 12px;\n",
              "    }\n",
              "\n",
              "    .colab-df-convert {\n",
              "      background-color: #E8F0FE;\n",
              "      border: none;\n",
              "      border-radius: 50%;\n",
              "      cursor: pointer;\n",
              "      display: none;\n",
              "      fill: #1967D2;\n",
              "      height: 32px;\n",
              "      padding: 0 0 0 0;\n",
              "      width: 32px;\n",
              "    }\n",
              "\n",
              "    .colab-df-convert:hover {\n",
              "      background-color: #E2EBFA;\n",
              "      box-shadow: 0px 1px 2px rgba(60, 64, 67, 0.3), 0px 1px 3px 1px rgba(60, 64, 67, 0.15);\n",
              "      fill: #174EA6;\n",
              "    }\n",
              "\n",
              "    [theme=dark] .colab-df-convert {\n",
              "      background-color: #3B4455;\n",
              "      fill: #D2E3FC;\n",
              "    }\n",
              "\n",
              "    [theme=dark] .colab-df-convert:hover {\n",
              "      background-color: #434B5C;\n",
              "      box-shadow: 0px 1px 3px 1px rgba(0, 0, 0, 0.15);\n",
              "      filter: drop-shadow(0px 1px 2px rgba(0, 0, 0, 0.3));\n",
              "      fill: #FFFFFF;\n",
              "    }\n",
              "  </style>\n",
              "\n",
              "      <script>\n",
              "        const buttonEl =\n",
              "          document.querySelector('#df-4643b1b6-f35b-48ad-bffd-b06d0a2c32db button.colab-df-convert');\n",
              "        buttonEl.style.display =\n",
              "          google.colab.kernel.accessAllowed ? 'block' : 'none';\n",
              "\n",
              "        async function convertToInteractive(key) {\n",
              "          const element = document.querySelector('#df-4643b1b6-f35b-48ad-bffd-b06d0a2c32db');\n",
              "          const dataTable =\n",
              "            await google.colab.kernel.invokeFunction('convertToInteractive',\n",
              "                                                     [key], {});\n",
              "          if (!dataTable) return;\n",
              "\n",
              "          const docLinkHtml = 'Like what you see? Visit the ' +\n",
              "            '<a target=\"_blank\" href=https://colab.research.google.com/notebooks/data_table.ipynb>data table notebook</a>'\n",
              "            + ' to learn more about interactive tables.';\n",
              "          element.innerHTML = '';\n",
              "          dataTable['output_type'] = 'display_data';\n",
              "          await google.colab.output.renderOutput(dataTable, element);\n",
              "          const docLink = document.createElement('div');\n",
              "          docLink.innerHTML = docLinkHtml;\n",
              "          element.appendChild(docLink);\n",
              "        }\n",
              "      </script>\n",
              "    </div>\n",
              "  </div>\n",
              "  "
            ]
          },
          "metadata": {},
          "execution_count": 9
        }
      ]
    },
    {
      "cell_type": "markdown",
      "source": [
        "### Plotting the correlation information through a map"
      ],
      "metadata": {
        "id": "hoBdjU-7kuZ1"
      }
    },
    {
      "cell_type": "code",
      "source": [
        "sns.heatmap(df.corr())"
      ],
      "metadata": {
        "colab": {
          "base_uri": "https://localhost:8080/",
          "height": 388
        },
        "id": "aOwTMY1XK8Jn",
        "outputId": "f97a348c-33ba-4892-e1a7-bc08d92f6758"
      },
      "execution_count": null,
      "outputs": [
        {
          "output_type": "execute_result",
          "data": {
            "text/plain": [
              "<AxesSubplot:>"
            ]
          },
          "metadata": {},
          "execution_count": 12
        },
        {
          "output_type": "display_data",
          "data": {
            "text/plain": [
              "<Figure size 432x288 with 2 Axes>"
            ],
            "image/png": "[encoded data removed]"
          },
          "metadata": {
            "needs_background": "light"
          }
        }
      ]
    },
    {
      "cell_type": "markdown",
      "source": [
        "### Plotting pairplots between various features to visually check for any non-linear correlations between the features. Also, colouring the data points based on whether \"Crack\" state 0 or 1."
      ],
      "metadata": {
        "id": "Y-wurH68k26o"
      }
    },
    {
      "cell_type": "code",
      "execution_count": null,
      "metadata": {
        "id": "zeesiCziFK6A",
        "colab": {
          "base_uri": "https://localhost:8080/",
          "height": 743
        },
        "outputId": "6cd714db-1c43-429a-d684-00c719644814"
      },
      "outputs": [
        {
          "output_type": "execute_result",
          "data": {
            "text/plain": [
              "<seaborn.axisgrid.PairGrid at 0x7f32412ad280>"
            ]
          },
          "metadata": {},
          "execution_count": 13
        },
        {
          "output_type": "display_data",
          "data": {
            "text/plain": [
              "<Figure size 762.375x720 with 20 Axes>"
            ],
            "image/png": "[encoded data removed]"
          },
          "metadata": {
            "needs_background": "light"
          }
        }
      ],
      "source": [
        "sns.pairplot(df, hue=\"Crack\")"
      ]
    },
    {
      "cell_type": "markdown",
      "source": [
        "### Important conclusions from the above\n",
        "* Various features don't seem to be strongly co-related either linealry or otherwise (Note that 'Crack' is dependent variable, and not a feature\n",
        "* Particulary interesting are the distribution plots along the diagonal in the above figure, which shows Cracking susceptibilty is strongly dependent on Stress and VulTime_by_RelxTime, while not much dependency is suggested on CoolingRate and TGrad_by_GrowthRate"
      ],
      "metadata": {
        "id": "crnJMUyjSqWz"
      }
    },
    {
      "cell_type": "markdown",
      "source": [
        "### Dividing the dataset into features and dependet variable"
      ],
      "metadata": {
        "id": "8DzeoSKuV92-"
      }
    },
    {
      "cell_type": "code",
      "source": [
        "X = df.iloc[:, :-1].values # Independent features\n",
        "y = df.iloc[:, -1].values # Dependet variable (Crack)\n"
      ],
      "metadata": {
        "id": "StWGSwcpOUdh"
      },
      "execution_count": null,
      "outputs": []
    },
    {
      "cell_type": "code",
      "source": [
        "# Note that X, and y are array and not dataframe\n",
        "\n",
        "X.shape"
      ],
      "metadata": {
        "colab": {
          "base_uri": "https://localhost:8080/"
        },
        "id": "F6tQEc1zWJMz",
        "outputId": "a498b173-9f57-4dae-a563-72f87357a8f8"
      },
      "execution_count": null,
      "outputs": [
        {
          "output_type": "execute_result",
          "data": {
            "text/plain": [
              "(102, 4)"
            ]
          },
          "metadata": {},
          "execution_count": 20
        }
      ]
    },
    {
      "cell_type": "code",
      "source": [
        "y.shape"
      ],
      "metadata": {
        "colab": {
          "base_uri": "https://localhost:8080/"
        },
        "id": "zoslXJC9WJ1e",
        "outputId": "4b2fcace-c70c-4763-b7b6-342a6a20f8ed"
      },
      "execution_count": null,
      "outputs": [
        {
          "output_type": "execute_result",
          "data": {
            "text/plain": [
              "(102,)"
            ]
          },
          "metadata": {},
          "execution_count": 22
        }
      ]
    },
    {
      "cell_type": "code",
      "source": [
        "# Re-shaping y as a 2D array (which is required for codes based on the scikit-learn library)\n",
        "\n",
        "y = y.reshape(-1,1)\n",
        "\n",
        "y.shape"
      ],
      "metadata": {
        "colab": {
          "base_uri": "https://localhost:8080/"
        },
        "id": "Z3ePWCMHWNFI",
        "outputId": "1252ce4b-f3fa-413b-8f06-45c4e07da206"
      },
      "execution_count": null,
      "outputs": [
        {
          "output_type": "execute_result",
          "data": {
            "text/plain": [
              "(102, 1)"
            ]
          },
          "metadata": {},
          "execution_count": 23
        }
      ]
    },
    {
      "cell_type": "markdown",
      "source": [
        "### Performing train-test split before scaling the features so as to avoid inlcduing bias towards training data in the test dataset"
      ],
      "metadata": {
        "id": "dyHB4rxLW2on"
      }
    },
    {
      "cell_type": "code",
      "source": [
        "# Importing the train-test splitter from scikit-learn library\n",
        "\n",
        "from sklearn.model_selection import train_test_split\n"
      ],
      "metadata": {
        "id": "hpZdpqWMWhqZ"
      },
      "execution_count": null,
      "outputs": []
    },
    {
      "cell_type": "code",
      "source": [
        "X_train, X_test, y_train, y_test = train_test_split(X, y, test_size = 0.25, random_state = 0)"
      ],
      "metadata": {
        "id": "J4aveNxxXM2U"
      },
      "execution_count": null,
      "outputs": []
    },
    {
      "cell_type": "code",
      "source": [
        "X_train.shape"
      ],
      "metadata": {
        "colab": {
          "base_uri": "https://localhost:8080/"
        },
        "id": "5JbIuDycXPQr",
        "outputId": "8ae64bf8-0b04-4bae-82e7-3faf39a49053"
      },
      "execution_count": null,
      "outputs": [
        {
          "output_type": "execute_result",
          "data": {
            "text/plain": [
              "(76, 4)"
            ]
          },
          "metadata": {},
          "execution_count": 27
        }
      ]
    },
    {
      "cell_type": "code",
      "source": [
        "X_test.shape"
      ],
      "metadata": {
        "colab": {
          "base_uri": "https://localhost:8080/"
        },
        "id": "JyrofSAwXU-v",
        "outputId": "cd51c4ce-f373-4b07-d8e9-bae77bdf047c"
      },
      "execution_count": null,
      "outputs": [
        {
          "output_type": "execute_result",
          "data": {
            "text/plain": [
              "(26, 4)"
            ]
          },
          "metadata": {},
          "execution_count": 28
        }
      ]
    },
    {
      "cell_type": "code",
      "source": [
        "y_train.shape"
      ],
      "metadata": {
        "colab": {
          "base_uri": "https://localhost:8080/"
        },
        "id": "3gATisf2XX8s",
        "outputId": "0893d1a8-24f1-4c02-e1f2-d5f3b79ff48f"
      },
      "execution_count": null,
      "outputs": [
        {
          "output_type": "execute_result",
          "data": {
            "text/plain": [
              "(76, 1)"
            ]
          },
          "metadata": {},
          "execution_count": 29
        }
      ]
    },
    {
      "cell_type": "markdown",
      "source": [
        "### Scaling the data as the orignal features are very different scaled"
      ],
      "metadata": {
        "id": "8L6LJxsMXgnW"
      }
    },
    {
      "cell_type": "code",
      "source": [
        "# Following shows the distribution of the original features through a box-plot\n",
        "# It is clear that the features are very differently scaled, and if they are\n",
        "# not scaled to comparable levels, machine learning algorithms won't work\n",
        "# as efficiently\n",
        "\n",
        "fig = plt.figure(figsize =(10, 7))\n",
        "plt.boxplot(X_train)\n",
        "plt.show()"
      ],
      "metadata": {
        "colab": {
          "base_uri": "https://localhost:8080/",
          "height": 439
        },
        "id": "Hg3CRiCtYgV0",
        "outputId": "a5cdd574-8769-4769-898c-2d788685d746"
      },
      "execution_count": null,
      "outputs": [
        {
          "output_type": "display_data",
          "data": {
            "text/plain": [
              "<Figure size 720x504 with 1 Axes>"
            ],
            "image/png": "[encoded data removed]"
          },
          "metadata": {
            "needs_background": "light"
          }
        }
      ]
    },
    {
      "cell_type": "code",
      "source": [
        "# Importing the scaler from scikit-learn library\n",
        "\n",
        "from sklearn.preprocessing import StandardScaler"
      ],
      "metadata": {
        "id": "w48_gN9-XbMl"
      },
      "execution_count": null,
      "outputs": []
    },
    {
      "cell_type": "code",
      "source": [
        "scaler = StandardScaler()\n",
        "\n",
        "X_train_scaled = scaler.fit_transform(X_train)\n",
        "\n",
        "X_test_scaled = scaler.transform(X_test) # IMP: Test data is just transformed, and not used for fitting the scaler\n",
        "\n",
        "# Note that the dependent variable y don't need to be scaled as it is already in [0,1] range \n"
      ],
      "metadata": {
        "id": "GkU5vv5FX1jW"
      },
      "execution_count": null,
      "outputs": []
    },
    {
      "cell_type": "code",
      "source": [
        "X_train_scaled"
      ],
      "metadata": {
        "id": "76r31Y0TXcqz"
      },
      "execution_count": null,
      "outputs": []
    },
    {
      "cell_type": "code",
      "source": [
        "# Following shows the distribution of the features after scaling \n",
        "\n",
        "fig = plt.figure(figsize =(10, 7))\n",
        "plt.boxplot(X_train_scaled)\n",
        "plt.show()"
      ],
      "metadata": {
        "colab": {
          "base_uri": "https://localhost:8080/",
          "height": 428
        },
        "id": "g0WIdsf-Y4G0",
        "outputId": "4d647fc1-edc6-4507-9f4d-2b2ae24e90b8"
      },
      "execution_count": null,
      "outputs": [
        {
          "output_type": "display_data",
          "data": {
            "text/plain": [
              "<Figure size 720x504 with 1 Axes>"
            ],
            "image/png": "[encoded data removed]"
          },
          "metadata": {
            "needs_background": "light"
          }
        }
      ]
    },
    {
      "cell_type": "markdown",
      "source": [
        "\n",
        "\n",
        "---\n",
        "\n",
        "\n",
        "\n",
        "---\n",
        "\n"
      ],
      "metadata": {
        "id": "AwN-7xT_a76F"
      }
    },
    {
      "cell_type": "markdown",
      "source": [
        "### Classification using"
      ],
      "metadata": {
        "id": "dDGN74Maatg3"
      }
    },
    {
      "cell_type": "markdown",
      "source": [
        "1.   Logistic Regression\n",
        "\n"
      ],
      "metadata": {
        "id": "8TJwU9Raa2hI"
      }
    },
    {
      "cell_type": "code",
      "source": [
        "from sklearn.linear_model import LogisticRegression\n",
        "classifier = LogisticRegression(random_state = 0)\n"
      ],
      "metadata": {
        "id": "-ChneTYLbXB4"
      },
      "execution_count": null,
      "outputs": []
    },
    {
      "cell_type": "markdown",
      "source": [
        "\n",
        "\n",
        "> All 4 features\n",
        "\n",
        "\n",
        "\n",
        "\n"
      ],
      "metadata": {
        "id": "nyxjKTn-bJV9"
      }
    },
    {
      "cell_type": "code",
      "source": [
        "classifier.fit(X_train_scaled, y_train)\n",
        "y_train_predict = classifier.predict(X_train_scaled)\n",
        "y_test_predict = classifier.predict(X_test_scaled)"
      ],
      "metadata": {
        "colab": {
          "base_uri": "https://localhost:8080/"
        },
        "id": "9n7xPtGWZwpD",
        "outputId": "b960b439-ef68-4ae9-acbc-b9aafb1fb5c7"
      },
      "execution_count": null,
      "outputs": [
        {
          "output_type": "stream",
          "name": "stderr",
          "text": [
            "/usr/local/lib/python3.8/dist-packages/sklearn/utils/validation.py:993: DataConversionWarning: A column-vector y was passed when a 1d array was expected. Please change the shape of y to (n_samples, ), for example using ravel().\n",
            "  y = column_or_1d(y, warn=True)\n"
          ]
        }
      ]
    },
    {
      "cell_type": "markdown",
      "source": [
        "\n",
        "Including the train-test split command just for reference\n",
        "```\n",
        "# X_train, X_test, y_train, y_test = train_test_split(X, y, test_size = 0.25, random_state = 0)\n",
        "```\n",
        "\n"
      ],
      "metadata": {
        "id": "oeWYvw8ocZeV"
      }
    },
    {
      "cell_type": "code",
      "source": [
        "# Plotting the variation of predicted y with the groundtruth y to see how the model performed\n",
        "plt.scatter(y_test, y_test_predict) "
      ],
      "metadata": {
        "colab": {
          "base_uri": "https://localhost:8080/",
          "height": 282
        },
        "id": "G0nanhFfcEUQ",
        "outputId": "13570d67-98ce-443d-b570-af6f3b162ef9"
      },
      "execution_count": null,
      "outputs": [
        {
          "output_type": "execute_result",
          "data": {
            "text/plain": [
              "<matplotlib.collections.PathCollection at 0x7f3236206880>"
            ]
          },
          "metadata": {},
          "execution_count": 60
        },
        {
          "output_type": "display_data",
          "data": {
            "text/plain": [
              "<Figure size 432x288 with 1 Axes>"
            ],
            "image/png": "[encoded data removed]"
          },
          "metadata": {
            "needs_background": "light"
          }
        }
      ]
    },
    {
      "cell_type": "markdown",
      "source": [
        "Above don't seem to be of any help for classifcation tasks. Above is relevant only for regression tasks"
      ],
      "metadata": {
        "id": "hjjY4j8qdR7y"
      }
    },
    {
      "cell_type": "code",
      "source": [
        "# For Classification, useful metrics is accuracy_score.\n",
        "\n",
        "# Importing the relevant modules from the scikit-learn library\n",
        "\n",
        "from sklearn.metrics import accuracy_score\n"
      ],
      "metadata": {
        "id": "TuabaAdAaHZ6"
      },
      "execution_count": null,
      "outputs": []
    },
    {
      "cell_type": "code",
      "source": [
        "print(f'Accuracy for TRAINING data is: {accuracy_score(y_train, y_train_predict)}')\n",
        "print('\\n')\n",
        "print(f'Accuracy for TEST data is: {accuracy_score(y_test, y_test_predict)}')"
      ],
      "metadata": {
        "colab": {
          "base_uri": "https://localhost:8080/"
        },
        "id": "_9Y9xm6saHcg",
        "outputId": "899b2d0b-780a-4e0f-aec4-eccc80e9e972"
      },
      "execution_count": null,
      "outputs": [
        {
          "output_type": "stream",
          "name": "stdout",
          "text": [
            "Accuracy for TRAINING data is: 0.7236842105263158\n",
            "\n",
            "\n",
            "Accuracy for TEST data is: 0.8076923076923077\n"
          ]
        }
      ]
    },
    {
      "cell_type": "markdown",
      "source": [
        "\n",
        "\n",
        "> Using only 2 most important features - Stress, and VulTime_by_RelxTime - This was determined based on pairplot's presented earlier\n",
        "\n",
        "\n",
        "\n",
        "\n"
      ],
      "metadata": {
        "id": "0vmEiAEofqxK"
      }
    },
    {
      "cell_type": "code",
      "source": [
        "classifier.fit(X_train_scaled[:,2:], y_train)\n",
        "y_train_predict = classifier.predict(X_train_scaled[:,2:])\n",
        "y_test_predict = classifier.predict(X_test_scaled[:,2:])"
      ],
      "metadata": {
        "colab": {
          "base_uri": "https://localhost:8080/"
        },
        "id": "Gi84-xFlaHe1",
        "outputId": "e5008880-8ee7-4d57-9166-016176635e8e"
      },
      "execution_count": null,
      "outputs": [
        {
          "output_type": "stream",
          "name": "stderr",
          "text": [
            "/usr/local/lib/python3.8/dist-packages/sklearn/utils/validation.py:993: DataConversionWarning: A column-vector y was passed when a 1d array was expected. Please change the shape of y to (n_samples, ), for example using ravel().\n",
            "  y = column_or_1d(y, warn=True)\n"
          ]
        }
      ]
    },
    {
      "cell_type": "code",
      "source": [
        "print(f'Accuracy for TRAINING data is: {accuracy_score(y_train, y_train_predict)}')\n",
        "print('\\n')\n",
        "print(f'Accuracy for TEST data is: {accuracy_score(y_test, y_test_predict)}')"
      ],
      "metadata": {
        "colab": {
          "base_uri": "https://localhost:8080/"
        },
        "id": "SnWmMEq3aHhC",
        "outputId": "091c2ce9-a8c7-4702-d2ce-cd34d305f0ad"
      },
      "execution_count": null,
      "outputs": [
        {
          "output_type": "stream",
          "name": "stdout",
          "text": [
            "Accuracy for TRAINING data is: 0.7236842105263158\n",
            "\n",
            "\n",
            "Accuracy for TEST data is: 0.7307692307692307\n"
          ]
        }
      ]
    },
    {
      "cell_type": "markdown",
      "source": [
        "### Interesting results\n",
        "\n",
        "* training accuracy was not affected, while Test accuracy dropped slightly from about 80% to about 73%. \n",
        "* Since 73% is still a reaosnably good accuracy, one important implication from this analysis is CoolingRate and TGrad_by_GrowthRate can be avoided while planning for experimental measurements/numerical simulations saving time and resources.\n",
        "* Using just 2 features for classification tasks also allow us to visualize the results through 2D plots\n",
        "\n"
      ],
      "metadata": {
        "id": "NA0nLiCPhaTM"
      }
    },
    {
      "cell_type": "markdown",
      "source": [
        "### For the present study, for comparing the present results with other Classification algorithms, all 4 features (Stress, and VulTime_by_RelxTime) will be used"
      ],
      "metadata": {
        "id": "Cl_Lb1B_jEth"
      }
    },
    {
      "cell_type": "markdown",
      "source": [
        "2.   K-nearest neighbours\n",
        "\n"
      ],
      "metadata": {
        "id": "4r15iKQDilL-"
      }
    },
    {
      "cell_type": "code",
      "source": [
        "from sklearn.neighbors import KNeighborsClassifier\n",
        "\n",
        "classifier = KNeighborsClassifier(n_neighbors = 5, metric = 'minkowski', p = 2)\n",
        "classifier.fit(X_train_scaled, y_train)\n",
        "\n",
        "y_train_predict = classifier.predict(X_train_scaled)\n",
        "y_test_predict = classifier.predict(X_test_scaled)"
      ],
      "metadata": {
        "colab": {
          "base_uri": "https://localhost:8080/"
        },
        "id": "iwWcLTUdiiLl",
        "outputId": "5f29f2b0-2258-49ed-f0fe-29e8cfc805a2"
      },
      "execution_count": null,
      "outputs": [
        {
          "output_type": "stream",
          "name": "stderr",
          "text": [
            "/usr/local/lib/python3.8/dist-packages/sklearn/neighbors/_classification.py:198: DataConversionWarning: A column-vector y was passed when a 1d array was expected. Please change the shape of y to (n_samples,), for example using ravel().\n",
            "  return self._fit(X, y)\n"
          ]
        }
      ]
    },
    {
      "cell_type": "code",
      "source": [
        "print(f'Accuracy for TRAINING data is: {accuracy_score(y_train, y_train_predict)}')\n",
        "print('\\n')\n",
        "print(f'Accuracy for TEST data is: {accuracy_score(y_test, y_test_predict)}')"
      ],
      "metadata": {
        "colab": {
          "base_uri": "https://localhost:8080/"
        },
        "id": "d8p4fhDwtcSU",
        "outputId": "ee84caff-9a9a-49d2-c5c6-c1bf61cc6611"
      },
      "execution_count": null,
      "outputs": [
        {
          "output_type": "stream",
          "name": "stdout",
          "text": [
            "Accuracy for TRAINING data is: 0.9605263157894737\n",
            "\n",
            "\n",
            "Accuracy for TEST data is: 0.9615384615384616\n"
          ]
        }
      ]
    },
    {
      "cell_type": "markdown",
      "source": [
        "3.   Kernel SVM"
      ],
      "metadata": {
        "id": "RaxhKYbFtnie"
      }
    },
    {
      "cell_type": "code",
      "source": [
        "from sklearn.svm import SVC\n",
        "\n",
        "classifier = SVC(kernel = 'rbf', random_state = 0)\n",
        "classifier.fit(X_train_scaled, y_train)\n",
        "\n",
        "y_train_predict = classifier.predict(X_train_scaled)\n",
        "y_test_predict = classifier.predict(X_test_scaled)"
      ],
      "metadata": {
        "colab": {
          "base_uri": "https://localhost:8080/"
        },
        "id": "nwWJhptYtgFg",
        "outputId": "4b8fc039-697d-4c92-deda-f523e1741626"
      },
      "execution_count": null,
      "outputs": [
        {
          "output_type": "stream",
          "name": "stderr",
          "text": [
            "/usr/local/lib/python3.8/dist-packages/sklearn/utils/validation.py:993: DataConversionWarning: A column-vector y was passed when a 1d array was expected. Please change the shape of y to (n_samples, ), for example using ravel().\n",
            "  y = column_or_1d(y, warn=True)\n"
          ]
        }
      ]
    },
    {
      "cell_type": "code",
      "source": [
        "print(f'Accuracy for TRAINING data is: {accuracy_score(y_train, y_train_predict)}')\n",
        "print('\\n')\n",
        "print(f'Accuracy for TEST data is: {accuracy_score(y_test, y_test_predict)}')"
      ],
      "metadata": {
        "colab": {
          "base_uri": "https://localhost:8080/"
        },
        "id": "lgI-j4FLtqIT",
        "outputId": "8ca5b6d4-48a8-46c6-f1f6-1b4acb6cd74d"
      },
      "execution_count": null,
      "outputs": [
        {
          "output_type": "stream",
          "name": "stdout",
          "text": [
            "Accuracy for TRAINING data is: 0.8947368421052632\n",
            "\n",
            "\n",
            "Accuracy for TEST data is: 0.9230769230769231\n"
          ]
        }
      ]
    },
    {
      "cell_type": "markdown",
      "source": [
        "4. Navie Bayes"
      ],
      "metadata": {
        "id": "5zc8FQySt3z-"
      }
    },
    {
      "cell_type": "code",
      "source": [
        "from sklearn.naive_bayes import GaussianNB\n",
        "\n",
        "classifier = GaussianNB()\n",
        "classifier.fit(X_train_scaled, y_train)\n",
        "\n",
        "y_train_predict = classifier.predict(X_train_scaled)\n",
        "y_test_predict = classifier.predict(X_test_scaled)\n"
      ],
      "metadata": {
        "colab": {
          "base_uri": "https://localhost:8080/"
        },
        "id": "iVAbPpmZt8vW",
        "outputId": "c29548c2-ab9d-44c2-8a98-06b67feeb894"
      },
      "execution_count": null,
      "outputs": [
        {
          "output_type": "stream",
          "name": "stderr",
          "text": [
            "/usr/local/lib/python3.8/dist-packages/sklearn/utils/validation.py:993: DataConversionWarning: A column-vector y was passed when a 1d array was expected. Please change the shape of y to (n_samples, ), for example using ravel().\n",
            "  y = column_or_1d(y, warn=True)\n"
          ]
        }
      ]
    },
    {
      "cell_type": "code",
      "source": [
        "print(f'Accuracy for TRAINING data is: {accuracy_score(y_train, y_train_predict)}')\n",
        "print('\\n')\n",
        "print(f'Accuracy for TEST data is: {accuracy_score(y_test, y_test_predict)}')"
      ],
      "metadata": {
        "colab": {
          "base_uri": "https://localhost:8080/"
        },
        "id": "oZ-3Jlq2uBi3",
        "outputId": "9d810429-6c5a-42ca-b2d5-2c34f3d216d6"
      },
      "execution_count": null,
      "outputs": [
        {
          "output_type": "stream",
          "name": "stdout",
          "text": [
            "Accuracy for TRAINING data is: 0.6447368421052632\n",
            "\n",
            "\n",
            "Accuracy for TEST data is: 0.6923076923076923\n"
          ]
        }
      ]
    },
    {
      "cell_type": "markdown",
      "source": [
        "### Conclusion\n",
        "\n",
        "\n",
        "* The original study referred to in the first cell used a decision tree, support vector machines, and logistic regression for this classification problem and reported an accuracy of 85.3%, 90.2%, and 70%, respectively.\n",
        "\n",
        "\n",
        "* Our logistic regression model, with an accuracy of 72% and 80% for training and test data, respectively, clearly outperformed the logistic regression model of the original study.\n",
        "\n",
        "\n",
        "* We are getting the best accuracy of about 96% on both training and test data using the K-nearest neighbour classifier, and this would be the best technique for this type of analysis going forward."
      ],
      "metadata": {
        "id": "f1MNhM1FuHDI"
      }
    }
  ]
}